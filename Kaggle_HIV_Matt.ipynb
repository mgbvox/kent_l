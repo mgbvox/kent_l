{
 "cells": [
  {
   "cell_type": "code",
   "execution_count": 1,
   "metadata": {
    "colab": {},
    "colab_type": "code",
    "id": "j6fbpXm3YFNL"
   },
   "outputs": [
    {
     "name": "stdout",
     "output_type": "stream",
     "text": [
      "Populating the interactive namespace from numpy and matplotlib\n"
     ]
    }
   ],
   "source": [
    "%pylab inline\n",
    "import pandas as pd"
   ]
  },
  {
   "cell_type": "code",
   "execution_count": 2,
   "metadata": {
    "colab": {
     "base_uri": "https://localhost:8080/",
     "height": 232
    },
    "colab_type": "code",
    "id": "pSQLJ2aIZAa2",
    "outputId": "27052bd3-3862-4c21-aa47-2911b5330445"
   },
   "outputs": [
    {
     "data": {
      "text/html": [
       "<div>\n",
       "<style scoped>\n",
       "    .dataframe tbody tr th:only-of-type {\n",
       "        vertical-align: middle;\n",
       "    }\n",
       "\n",
       "    .dataframe tbody tr th {\n",
       "        vertical-align: top;\n",
       "    }\n",
       "\n",
       "    .dataframe thead th {\n",
       "        text-align: right;\n",
       "    }\n",
       "</style>\n",
       "<table border=\"1\" class=\"dataframe\">\n",
       "  <thead>\n",
       "    <tr style=\"text-align: right;\">\n",
       "      <th></th>\n",
       "      <th>PatientID</th>\n",
       "      <th>Resp</th>\n",
       "      <th>PR Seq</th>\n",
       "      <th>RT Seq</th>\n",
       "      <th>VL-t0</th>\n",
       "      <th>CD4-t0</th>\n",
       "    </tr>\n",
       "  </thead>\n",
       "  <tbody>\n",
       "    <tr>\n",
       "      <th>0</th>\n",
       "      <td>1</td>\n",
       "      <td>0</td>\n",
       "      <td>CCTCAAATCACTCTTTGGCAACGACCCCTCGTCCCAATAAGGATAG...</td>\n",
       "      <td>CCCATTAGTCCTATTGAAACTGTACCAGTAAAGCTAAAGCCAGGAA...</td>\n",
       "      <td>4.3</td>\n",
       "      <td>145</td>\n",
       "    </tr>\n",
       "    <tr>\n",
       "      <th>1</th>\n",
       "      <td>2</td>\n",
       "      <td>0</td>\n",
       "      <td>CCTCAAATCACTCTTTGGCAACGACCCCTCGTCGCAATAAAGATAG...</td>\n",
       "      <td>CCCATTAGTCCTATTGAAACTGTACCAGTAAAATTAAAGCCAGGAA...</td>\n",
       "      <td>3.6</td>\n",
       "      <td>224</td>\n",
       "    </tr>\n",
       "    <tr>\n",
       "      <th>2</th>\n",
       "      <td>3</td>\n",
       "      <td>0</td>\n",
       "      <td>CCTCAAATCACTCTTTGGCAACGACCCCTCGTCGCAATAAAGGTAG...</td>\n",
       "      <td>CCCATTAGTCCTATTGAAACTGTACCAGTAAAATTAAAGCCAGGAA...</td>\n",
       "      <td>3.2</td>\n",
       "      <td>1017</td>\n",
       "    </tr>\n",
       "    <tr>\n",
       "      <th>3</th>\n",
       "      <td>4</td>\n",
       "      <td>0</td>\n",
       "      <td>CCTCAAATCACTCTTTGGCAACGACCCCTCGTCGCAATAAGGATAG...</td>\n",
       "      <td>CCCATTAGTCCTATTGAAACTGTACCAGTAAAATTAAAGCCAGGAA...</td>\n",
       "      <td>5.7</td>\n",
       "      <td>206</td>\n",
       "    </tr>\n",
       "    <tr>\n",
       "      <th>4</th>\n",
       "      <td>5</td>\n",
       "      <td>0</td>\n",
       "      <td>CCTCAAATCACTCTTTGGCAACGACCCCTCGTCGCAGTAAAGATAG...</td>\n",
       "      <td>CCCATTAGTCCTATTGAAACTGTACCAGTAAAATTAAAGCCAGGAA...</td>\n",
       "      <td>3.5</td>\n",
       "      <td>572</td>\n",
       "    </tr>\n",
       "  </tbody>\n",
       "</table>\n",
       "</div>"
      ],
      "text/plain": [
       "   PatientID  Resp                                             PR Seq  \\\n",
       "0          1     0  CCTCAAATCACTCTTTGGCAACGACCCCTCGTCCCAATAAGGATAG...   \n",
       "1          2     0  CCTCAAATCACTCTTTGGCAACGACCCCTCGTCGCAATAAAGATAG...   \n",
       "2          3     0  CCTCAAATCACTCTTTGGCAACGACCCCTCGTCGCAATAAAGGTAG...   \n",
       "3          4     0  CCTCAAATCACTCTTTGGCAACGACCCCTCGTCGCAATAAGGATAG...   \n",
       "4          5     0  CCTCAAATCACTCTTTGGCAACGACCCCTCGTCGCAGTAAAGATAG...   \n",
       "\n",
       "                                              RT Seq  VL-t0  CD4-t0  \n",
       "0  CCCATTAGTCCTATTGAAACTGTACCAGTAAAGCTAAAGCCAGGAA...    4.3     145  \n",
       "1  CCCATTAGTCCTATTGAAACTGTACCAGTAAAATTAAAGCCAGGAA...    3.6     224  \n",
       "2  CCCATTAGTCCTATTGAAACTGTACCAGTAAAATTAAAGCCAGGAA...    3.2    1017  \n",
       "3  CCCATTAGTCCTATTGAAACTGTACCAGTAAAATTAAAGCCAGGAA...    5.7     206  \n",
       "4  CCCATTAGTCCTATTGAAACTGTACCAGTAAAATTAAAGCCAGGAA...    3.5     572  "
      ]
     },
     "execution_count": 2,
     "metadata": {},
     "output_type": "execute_result"
    }
   ],
   "source": [
    "#Look at the data we've got:\n",
    "data = pd.read_csv('training_data.csv')\n",
    "data.head()"
   ]
  },
  {
   "cell_type": "code",
   "execution_count": 3,
   "metadata": {
    "colab": {
     "base_uri": "https://localhost:8080/",
     "height": 34
    },
    "colab_type": "code",
    "id": "1kVPpgRZZWmP",
    "outputId": "93b208a4-eae8-44eb-a101-8f590e341e34"
   },
   "outputs": [
    {
     "data": {
      "text/plain": [
       "Index(['PatientID', 'Resp', 'PR Seq', 'RT Seq', 'VL-t0', 'CD4-t0'], dtype='object')"
      ]
     },
     "execution_count": 3,
     "metadata": {},
     "output_type": "execute_result"
    }
   ],
   "source": [
    "#What are the columns?\n",
    "data.columns"
   ]
  },
  {
   "cell_type": "code",
   "execution_count": 4,
   "metadata": {
    "colab": {
     "base_uri": "https://localhost:8080/",
     "height": 67
    },
    "colab_type": "code",
    "id": "WNIYw1pQdNDr",
    "outputId": "0ffa68f7-6e02-439a-947c-5364a7df4ad4"
   },
   "outputs": [
    {
     "data": {
      "text/plain": [
       "0    794\n",
       "1    206\n",
       "Name: Resp, dtype: int64"
      ]
     },
     "execution_count": 4,
     "metadata": {},
     "output_type": "execute_result"
    }
   ],
   "source": [
    "#How is the data distributed?\n",
    "data['Resp'].value_counts()"
   ]
  },
  {
   "cell_type": "code",
   "execution_count": 5,
   "metadata": {
    "colab": {
     "base_uri": "https://localhost:8080/",
     "height": 202
    },
    "colab_type": "code",
    "id": "wQE4STsRdPxW",
    "outputId": "bc0acdc1-463b-46f5-d0f0-5f7497d2a87e"
   },
   "outputs": [
    {
     "data": {
      "text/plain": [
       "297    889\n",
       "294     14\n",
       "267      6\n",
       "270      3\n",
       "285      2\n",
       "252      2\n",
       "276      1\n",
       "261      1\n",
       "255      1\n",
       "216      1\n",
       "Name: PR Seq, dtype: int64"
      ]
     },
     "execution_count": 5,
     "metadata": {},
     "output_type": "execute_result"
    }
   ],
   "source": [
    "#How do the sequences vary? This looks at length:\n",
    "\n",
    "data['PR Seq'].dropna().apply(lambda x: len(str(x))).value_counts()"
   ]
  },
  {
   "cell_type": "code",
   "execution_count": 6,
   "metadata": {},
   "outputs": [
    {
     "data": {
      "text/plain": [
       "900     150\n",
       "909      93\n",
       "903      88\n",
       "1005     80\n",
       "750      74\n",
       "906      60\n",
       "897      23\n",
       "1464     22\n",
       "972      13\n",
       "1461     13\n",
       "912      13\n",
       "1452     12\n",
       "840       9\n",
       "1467      9\n",
       "876       9\n",
       "894       9\n",
       "783       9\n",
       "885       8\n",
       "801       8\n",
       "852       8\n",
       "855       8\n",
       "774       8\n",
       "1473      8\n",
       "1470      8\n",
       "1449      7\n",
       "1002      7\n",
       "888       7\n",
       "1476      7\n",
       "810       7\n",
       "1458      7\n",
       "       ... \n",
       "1074      1\n",
       "1098      1\n",
       "1347      1\n",
       "1110      1\n",
       "996       1\n",
       "705       1\n",
       "969       1\n",
       "966       1\n",
       "846       1\n",
       "837       1\n",
       "834       1\n",
       "828       1\n",
       "879       1\n",
       "819       1\n",
       "887       1\n",
       "795       1\n",
       "789       1\n",
       "896       1\n",
       "939       1\n",
       "744       1\n",
       "723       1\n",
       "672       1\n",
       "654       1\n",
       "597       1\n",
       "579       1\n",
       "1482      1\n",
       "1479      1\n",
       "951       1\n",
       "963       1\n",
       "1032      1\n",
       "Name: RT Seq, Length: 116, dtype: int64"
      ]
     },
     "execution_count": 6,
     "metadata": {},
     "output_type": "execute_result"
    }
   ],
   "source": [
    "#What about the other sequence?\n",
    "data['RT Seq'].dropna().apply(lambda x: len(str(x))).value_counts()"
   ]
  },
  {
   "cell_type": "code",
   "execution_count": 7,
   "metadata": {
    "colab": {
     "base_uri": "https://localhost:8080/",
     "height": 300
    },
    "colab_type": "code",
    "id": "XMEGtzVTe4_D",
    "outputId": "3ade9790-e260-4447-9a07-dbe16762c6cd"
   },
   "outputs": [
    {
     "data": {
      "text/plain": [
       "<matplotlib.axes._subplots.AxesSubplot at 0x11ac49ef0>"
      ]
     },
     "execution_count": 7,
     "metadata": {},
     "output_type": "execute_result"
    },
    {
     "data": {
      "image/png": "[encoded data removed]",
      "text/plain": [
       "<Figure size 432x288 with 1 Axes>"
      ]
     },
     "metadata": {
      "needs_background": "light"
     },
     "output_type": "display_data"
    }
   ],
   "source": [
    "#How is Viral Load and Response linked?\n",
    "data.plot.scatter('VL-t0', 'Resp')"
   ]
  },
  {
   "cell_type": "code",
   "execution_count": 8,
   "metadata": {
    "colab": {},
    "colab_type": "code",
    "id": "YV1QpGcYhJon"
   },
   "outputs": [],
   "source": [
    "#The above plot looks like the relationship follows\n",
    "#a logistic regression - this is common for binary \n",
    "#data (given Resp is either 0 or 1, we call the data binary)"
   ]
  },
  {
   "cell_type": "code",
   "execution_count": 9,
   "metadata": {
    "colab": {
     "base_uri": "https://localhost:8080/",
     "height": 34
    },
    "colab_type": "code",
    "id": "rwIAF2Hphtvl",
    "outputId": "e5bb0546-949c-453e-d7a6-49f57c353c6f"
   },
   "outputs": [
    {
     "name": "stdout",
     "output_type": "stream",
     "text": [
      "Accuracy of Logistic Regression Model: 78.7%\n"
     ]
    }
   ],
   "source": [
    "#Run a simple Logistic regression to predict\n",
    "#responsiveness from Viral Load and CD4 count:\n",
    "#(You can ignore the warnings this generates, if any.)\n",
    "\n",
    "from sklearn.linear_model import LogisticRegression\n",
    "\n",
    "model = LogisticRegression(solver='lbfgs')\n",
    "X = data[['VL-t0', 'CD4-t0']]\n",
    "y = data['Resp']\n",
    "model.fit(X,y)\n",
    "y_pred = model.predict(X)\n",
    "acc = sum(data['Resp']==y_pred)/len(data['Resp'])\n",
    "print('Accuracy of Logistic Regression Model: {}%'.format(acc*100))"
   ]
  },
  {
   "cell_type": "code",
   "execution_count": 10,
   "metadata": {
    "colab": {},
    "colab_type": "code",
    "id": "V3I_QFjZldTk"
   },
   "outputs": [],
   "source": [
    "from sklearn.metrics import confusion_matrix, f1_score"
   ]
  },
  {
   "cell_type": "code",
   "execution_count": 11,
   "metadata": {
    "colab": {
     "base_uri": "https://localhost:8080/",
     "height": 50
    },
    "colab_type": "code",
    "id": "bEou-PCGlgc1",
    "outputId": "2f5b6a86-3005-4dd0-bfde-855ec1c0a710"
   },
   "outputs": [
    {
     "data": {
      "text/plain": [
       "array([[758,  36],\n",
       "       [177,  29]])"
      ]
     },
     "execution_count": 11,
     "metadata": {},
     "output_type": "execute_result"
    }
   ],
   "source": [
    "confusion_matrix(y,y_pred)"
   ]
  },
  {
   "cell_type": "code",
   "execution_count": 12,
   "metadata": {
    "colab": {
     "base_uri": "https://localhost:8080/",
     "height": 34
    },
    "colab_type": "code",
    "id": "o01Zzo6TlkUG",
    "outputId": "8050ebe0-9bcf-4631-e05d-d4bde8aacca6"
   },
   "outputs": [
    {
     "data": {
      "text/plain": [
       "0.2140221402214022"
      ]
     },
     "execution_count": 12,
     "metadata": {},
     "output_type": "execute_result"
    }
   ],
   "source": [
    "f1_score(y, y_pred)"
   ]
  },
  {
   "cell_type": "code",
   "execution_count": 13,
   "metadata": {},
   "outputs": [
    {
     "data": {
      "text/plain": [
       "'Using just Viral Load and CD4 count, we have an okay model. We can do better.\\nThe next question: how to represent variable length sequences as fixed-length, numerical data?\\nAnswer: word2vec embeddings. A simple one is implemented below.'"
      ]
     },
     "execution_count": 13,
     "metadata": {},
     "output_type": "execute_result"
    }
   ],
   "source": [
    "'''Using just Viral Load and CD4 count, we have an okay model. We can do better.\n",
    "The next question: how to represent variable length sequences as fixed-length, numerical data?\n",
    "Answer: word2vec embeddings. A simple one is implemented below.'''"
   ]
  },
  {
   "cell_type": "code",
   "execution_count": 15,
   "metadata": {},
   "outputs": [
    {
     "name": "stdout",
     "output_type": "stream",
     "text": [
      "Collecting gensim\n",
      "\u001b[?25l  Downloading https://files.pythonhosted.org/packages/82/bb/56f295a604dfafdef746cc81081ff4c6e825690de95963000300a1cd3d80/gensim-3.7.3-cp37-cp37m-macosx_10_6_intel.macosx_10_9_intel.macosx_10_9_x86_64.macosx_10_10_intel.macosx_10_10_x86_64.whl (24.7MB)\n",
      "\u001b[K    100% |████████████████████████████████| 24.7MB 1.2MB/s \n",
      "\u001b[?25hRequirement already satisfied: scipy>=0.18.1 in /Users/mgbvox/anaconda3/lib/python3.7/site-packages (from gensim) (1.1.0)\n",
      "Requirement already satisfied: six>=1.5.0 in /Users/mgbvox/anaconda3/lib/python3.7/site-packages (from gensim) (1.12.0)\n",
      "Requirement already satisfied: numpy>=1.11.3 in /Users/mgbvox/anaconda3/lib/python3.7/site-packages (from gensim) (1.15.4)\n",
      "Collecting smart-open>=1.7.0 (from gensim)\n",
      "\u001b[?25l  Downloading https://files.pythonhosted.org/packages/37/c0/25d19badc495428dec6a4bf7782de617ee0246a9211af75b302a2681dea7/smart_open-1.8.4.tar.gz (63kB)\n",
      "\u001b[K    100% |████████████████████████████████| 71kB 2.3MB/s \n",
      "\u001b[?25hRequirement already satisfied: boto>=2.32 in /Users/mgbvox/anaconda3/lib/python3.7/site-packages (from smart-open>=1.7.0->gensim) (2.49.0)\n",
      "Requirement already satisfied: requests in /Users/mgbvox/anaconda3/lib/python3.7/site-packages (from smart-open>=1.7.0->gensim) (2.21.0)\n",
      "Collecting boto3 (from smart-open>=1.7.0->gensim)\n",
      "\u001b[?25l  Downloading https://files.pythonhosted.org/packages/3a/47/c7c92c453593a7b2a062bde3c5f714a4c5c12763f97b8b9c7a7480932bb1/boto3-1.9.167-py2.py3-none-any.whl (128kB)\n",
      "\u001b[K    100% |████████████████████████████████| 133kB 2.6MB/s \n",
      "\u001b[?25hRequirement already satisfied: certifi>=2017.4.17 in /Users/mgbvox/anaconda3/lib/python3.7/site-packages (from requests->smart-open>=1.7.0->gensim) (2018.11.29)\n",
      "Requirement already satisfied: chardet<3.1.0,>=3.0.2 in /Users/mgbvox/anaconda3/lib/python3.7/site-packages (from requests->smart-open>=1.7.0->gensim) (3.0.4)\n",
      "Requirement already satisfied: idna<2.9,>=2.5 in /Users/mgbvox/anaconda3/lib/python3.7/site-packages (from requests->smart-open>=1.7.0->gensim) (2.8)\n",
      "Requirement already satisfied: urllib3<1.25,>=1.21.1 in /Users/mgbvox/anaconda3/lib/python3.7/site-packages (from requests->smart-open>=1.7.0->gensim) (1.24.1)\n",
      "Collecting botocore<1.13.0,>=1.12.167 (from boto3->smart-open>=1.7.0->gensim)\n",
      "\u001b[?25l  Downloading https://files.pythonhosted.org/packages/7b/00/8437c07663969bd219aab33299f17b9d0ecd82622f4e19f482483efbfc6d/botocore-1.12.167-py2.py3-none-any.whl (5.5MB)\n",
      "\u001b[K    100% |████████████████████████████████| 5.5MB 1.3MB/s \n",
      "\u001b[?25hCollecting jmespath<1.0.0,>=0.7.1 (from boto3->smart-open>=1.7.0->gensim)\n",
      "  Downloading https://files.pythonhosted.org/packages/83/94/7179c3832a6d45b266ddb2aac329e101367fbdb11f425f13771d27f225bb/jmespath-0.9.4-py2.py3-none-any.whl\n",
      "Collecting s3transfer<0.3.0,>=0.2.0 (from boto3->smart-open>=1.7.0->gensim)\n",
      "\u001b[?25l  Downloading https://files.pythonhosted.org/packages/16/8a/1fc3dba0c4923c2a76e1ff0d52b305c44606da63f718d14d3231e21c51b0/s3transfer-0.2.1-py2.py3-none-any.whl (70kB)\n",
      "\u001b[K    100% |████████████████████████████████| 71kB 2.6MB/s \n",
      "\u001b[?25hRequirement already satisfied: python-dateutil<3.0.0,>=2.1; python_version >= \"2.7\" in /Users/mgbvox/anaconda3/lib/python3.7/site-packages (from botocore<1.13.0,>=1.12.167->boto3->smart-open>=1.7.0->gensim) (2.7.5)\n",
      "Requirement already satisfied: docutils>=0.10 in /Users/mgbvox/anaconda3/lib/python3.7/site-packages (from botocore<1.13.0,>=1.12.167->boto3->smart-open>=1.7.0->gensim) (0.14)\n",
      "Building wheels for collected packages: smart-open\n",
      "  Running setup.py bdist_wheel for smart-open ... \u001b[?25ldone\n",
      "\u001b[?25h  Stored in directory: /Users/mgbvox/Library/Caches/pip/wheels/5f/ea/fb/5b1a947b369724063b2617011f1540c44eb00e28c3d2ca8692\n",
      "Successfully built smart-open\n",
      "Installing collected packages: jmespath, botocore, s3transfer, boto3, smart-open, gensim\n",
      "Successfully installed boto3-1.9.167 botocore-1.12.167 gensim-3.7.3 jmespath-0.9.4 s3transfer-0.2.1 smart-open-1.8.4\n"
     ]
    }
   ],
   "source": [
    "!pip install gensim"
   ]
  },
  {
   "cell_type": "code",
   "execution_count": 16,
   "metadata": {},
   "outputs": [
    {
     "data": {
      "text/plain": [
       "'CCTCAAATCACTCTTTGGCAACGACCCCTCGTCCCAATAAGGATAGGGGGGCAACTAAAGGAAGCYCTATTAGATACAGGAGCAGATGATACAGTATTAGAAGACATGGAGTTGCCAGGAAGATGGAAACCAAAAATGATAGGGGGAATTGGAGGTTTTATCAAAGTAARACAGTATGATCAGRTACCCATAGAAATCTATGGACATAAAGCTGTAGGTACAGTATTAATAGGACCTACACCTGTCAACATAATTGGAAGAAATCTGTTGACTCAGCTTGGTTGCACTTTAAATTTY'"
      ]
     },
     "execution_count": 16,
     "metadata": {},
     "output_type": "execute_result"
    }
   ],
   "source": []
  },
  {
   "cell_type": "code",
   "execution_count": 14,
   "metadata": {
    "colab": {},
    "colab_type": "code",
    "id": "T4yI8lOWl6ka"
   },
   "outputs": [
    {
     "ename": "ModuleNotFoundError",
     "evalue": "No module named 'gensim'",
     "output_type": "error",
     "traceback": [
      "\u001b[0;31m---------------------------------------------------------------------------\u001b[0m",
      "\u001b[0;31mModuleNotFoundError\u001b[0m                       Traceback (most recent call last)",
      "\u001b[0;32m<ipython-input-14-b751bf047470>\u001b[0m in \u001b[0;36m<module>\u001b[0;34m\u001b[0m\n\u001b[0;32m----> 1\u001b[0;31m \u001b[0;32mfrom\u001b[0m \u001b[0mgensim\u001b[0m\u001b[0;34m.\u001b[0m\u001b[0mmodels\u001b[0m \u001b[0;32mimport\u001b[0m \u001b[0mWord2Vec\u001b[0m\u001b[0;34m\u001b[0m\u001b[0;34m\u001b[0m\u001b[0m\n\u001b[0m\u001b[1;32m      2\u001b[0m \u001b[0;34m\u001b[0m\u001b[0m\n\u001b[1;32m      3\u001b[0m \u001b[0;32mdef\u001b[0m \u001b[0mseq_to_cols\u001b[0m\u001b[0;34m(\u001b[0m\u001b[0mseq\u001b[0m\u001b[0;34m)\u001b[0m\u001b[0;34m:\u001b[0m\u001b[0;34m\u001b[0m\u001b[0;34m\u001b[0m\u001b[0m\n\u001b[1;32m      4\u001b[0m     \u001b[0;31m# define training data\u001b[0m\u001b[0;34m\u001b[0m\u001b[0;34m\u001b[0m\u001b[0;34m\u001b[0m\u001b[0m\n\u001b[1;32m      5\u001b[0m     \u001b[0msentences\u001b[0m \u001b[0;34m=\u001b[0m \u001b[0mseq\u001b[0m\u001b[0;34m.\u001b[0m\u001b[0mvalues\u001b[0m\u001b[0;34m\u001b[0m\u001b[0;34m\u001b[0m\u001b[0m\n",
      "\u001b[0;31mModuleNotFoundError\u001b[0m: No module named 'gensim'"
     ]
    }
   ],
   "source": [
    "from gensim.models import Word2Vec\n",
    "\n",
    "def seq_to_cols(seq):\n",
    "    # define training data\n",
    "    sentences = seq.values\n",
    "    sentences = [[i] for i in sentences]\n",
    "    # train model\n",
    "    model = Word2Vec(sentences, min_count=1)\n",
    "    # summarize the loaded model\n",
    "    print(model)\n",
    "    # summarize vocabulary\n",
    "    words = list(model.wv.vocab)\n",
    "    #print(words)\n",
    "\n",
    "    # access vector for one word\n",
    "    #print(model[data['PR Seq'].dropna().values[0]].shape)\n",
    "\n",
    "    seq_name = '_'.join(seq.name.split(' '))\n",
    "\n",
    "    # save model\n",
    "    model.save('{}_model.bin'.format(seq_name))\n",
    "    \n",
    "    '''Not required - but here is how to load a model:\n",
    "    # load model\n",
    "    model = Word2Vec.load('{}_model.bin'.format(seq_name))\n",
    "    '''\n",
    "    \n",
    "    res_df = seq.apply(lambda x: model[x]).apply(pd.Series)\n",
    "    return res_df"
   ]
  },
  {
   "cell_type": "code",
   "execution_count": 27,
   "metadata": {},
   "outputs": [
    {
     "name": "stdout",
     "output_type": "stream",
     "text": [
      "Word2Vec(vocab=920, size=100, alpha=0.025)\n",
      "Word2Vec(vocab=920, size=100, alpha=0.025)\n"
     ]
    },
    {
     "name": "stderr",
     "output_type": "stream",
     "text": [
      "/Users/mgb/anaconda3/lib/python3.6/site-packages/smart_open/smart_open_lib.py:398: UserWarning: This function is deprecated, use smart_open.open instead. See the migration notes for details: https://github.com/RaRe-Technologies/smart_open/blob/master/README.rst#migrating-to-the-new-open-function\n",
      "  'See the migration notes for details: %s' % _MIGRATION_NOTES_URL\n",
      "/Users/mgb/anaconda3/lib/python3.6/site-packages/smart_open/smart_open_lib.py:398: UserWarning: This function is deprecated, use smart_open.open instead. See the migration notes for details: https://github.com/RaRe-Technologies/smart_open/blob/master/README.rst#migrating-to-the-new-open-function\n",
      "  'See the migration notes for details: %s' % _MIGRATION_NOTES_URL\n",
      "/Users/mgb/anaconda3/lib/python3.6/site-packages/ipykernel_launcher.py:25: DeprecationWarning: Call to deprecated `__getitem__` (Method will be removed in 4.0.0, use self.wv.__getitem__() instead).\n",
      "/Users/mgb/anaconda3/lib/python3.6/site-packages/smart_open/smart_open_lib.py:398: UserWarning: This function is deprecated, use smart_open.open instead. See the migration notes for details: https://github.com/RaRe-Technologies/smart_open/blob/master/README.rst#migrating-to-the-new-open-function\n",
      "  'See the migration notes for details: %s' % _MIGRATION_NOTES_URL\n",
      "/Users/mgb/anaconda3/lib/python3.6/site-packages/smart_open/smart_open_lib.py:398: UserWarning: This function is deprecated, use smart_open.open instead. See the migration notes for details: https://github.com/RaRe-Technologies/smart_open/blob/master/README.rst#migrating-to-the-new-open-function\n",
      "  'See the migration notes for details: %s' % _MIGRATION_NOTES_URL\n",
      "/Users/mgb/anaconda3/lib/python3.6/site-packages/ipykernel_launcher.py:25: DeprecationWarning: Call to deprecated `__getitem__` (Method will be removed in 4.0.0, use self.wv.__getitem__() instead).\n"
     ]
    }
   ],
   "source": [
    "'''Embed each column - ignore the warnings.'''\n",
    "data = data.dropna(how='any')\n",
    "pr_df = seq_to_cols(data['PR Seq'])\n",
    "rt_df = seq_to_cols(data['RT Seq'])"
   ]
  },
  {
   "cell_type": "code",
   "execution_count": 28,
   "metadata": {},
   "outputs": [],
   "source": [
    "X = pd.concat([pr_df,rt_df], axis=1)\n",
    "y = data['Resp']"
   ]
  },
  {
   "cell_type": "code",
   "execution_count": 29,
   "metadata": {},
   "outputs": [
    {
     "name": "stdout",
     "output_type": "stream",
     "text": [
      "Accuracy of Logistic Regression Model: 79.67391304347827%\n"
     ]
    }
   ],
   "source": [
    "from sklearn.linear_model import LogisticRegression\n",
    "\n",
    "model = LogisticRegression(solver='lbfgs')\n",
    "\n",
    "model.fit(X,y)\n",
    "y_pred = model.predict(X)\n",
    "acc = sum(data['Resp']==y_pred)/len(data['Resp'])\n",
    "print('Accuracy of Logistic Regression Model: {}%'.format(acc*100))"
   ]
  },
  {
   "cell_type": "code",
   "execution_count": 31,
   "metadata": {},
   "outputs": [
    {
     "data": {
      "text/plain": [
       "array([[733,   0],\n",
       "       [187,   0]])"
      ]
     },
     "execution_count": 31,
     "metadata": {},
     "output_type": "execute_result"
    }
   ],
   "source": [
    "'''More accurate, but it predicts all zeros:'''\n",
    "confusion_matrix(y,y_pred)"
   ]
  },
  {
   "cell_type": "code",
   "execution_count": 32,
   "metadata": {},
   "outputs": [],
   "source": [
    "'''Time to break out the big guns - Feed Forward Neural Networks!'''\n",
    "x_train = X\n",
    "y_train = y"
   ]
  },
  {
   "cell_type": "code",
   "execution_count": 33,
   "metadata": {},
   "outputs": [
    {
     "name": "stderr",
     "output_type": "stream",
     "text": [
      "Using TensorFlow backend.\n"
     ]
    },
    {
     "name": "stdout",
     "output_type": "stream",
     "text": [
      "WARNING:tensorflow:From /Users/mgb/anaconda3/lib/python3.6/site-packages/tensorflow/python/framework/op_def_library.py:263: colocate_with (from tensorflow.python.framework.ops) is deprecated and will be removed in a future version.\n",
      "Instructions for updating:\n",
      "Colocations handled automatically by placer.\n",
      "WARNING:tensorflow:From /Users/mgb/anaconda3/lib/python3.6/site-packages/tensorflow/python/ops/math_ops.py:3066: to_int32 (from tensorflow.python.ops.math_ops) is deprecated and will be removed in a future version.\n",
      "Instructions for updating:\n",
      "Use tf.cast instead.\n",
      "Train on 736 samples, validate on 184 samples\n",
      "Epoch 1/100\n",
      "736/736 [==============================] - 0s 341us/step - loss: 0.6078 - acc: 0.8207 - val_loss: 0.6142 - val_acc: 0.7011\n",
      "Epoch 2/100\n",
      "736/736 [==============================] - 0s 28us/step - loss: 0.4739 - acc: 0.8207 - val_loss: 0.6639 - val_acc: 0.7011\n",
      "Epoch 3/100\n",
      "736/736 [==============================] - 0s 30us/step - loss: 0.4697 - acc: 0.8207 - val_loss: 0.6568 - val_acc: 0.7011\n",
      "Epoch 4/100\n",
      "736/736 [==============================] - 0s 31us/step - loss: 0.4684 - acc: 0.8207 - val_loss: 0.6585 - val_acc: 0.7011\n",
      "Epoch 5/100\n",
      "736/736 [==============================] - 0s 32us/step - loss: 0.4655 - acc: 0.8207 - val_loss: 0.6571 - val_acc: 0.7011\n",
      "Epoch 6/100\n",
      "736/736 [==============================] - 0s 37us/step - loss: 0.4640 - acc: 0.8207 - val_loss: 0.6598 - val_acc: 0.7011\n",
      "Epoch 7/100\n",
      "736/736 [==============================] - 0s 33us/step - loss: 0.4622 - acc: 0.8207 - val_loss: 0.6531 - val_acc: 0.7011\n",
      "Epoch 8/100\n",
      "736/736 [==============================] - 0s 37us/step - loss: 0.4618 - acc: 0.8207 - val_loss: 0.6516 - val_acc: 0.7011\n",
      "Epoch 9/100\n",
      "736/736 [==============================] - 0s 33us/step - loss: 0.4565 - acc: 0.8207 - val_loss: 0.6427 - val_acc: 0.7011\n",
      "Epoch 10/100\n",
      "736/736 [==============================] - 0s 31us/step - loss: 0.4522 - acc: 0.8207 - val_loss: 0.6709 - val_acc: 0.7011\n",
      "Epoch 11/100\n",
      "736/736 [==============================] - 0s 32us/step - loss: 0.4471 - acc: 0.8207 - val_loss: 0.6199 - val_acc: 0.7011\n",
      "Epoch 12/100\n",
      "736/736 [==============================] - 0s 28us/step - loss: 0.4480 - acc: 0.8207 - val_loss: 0.6678 - val_acc: 0.7011\n",
      "Epoch 13/100\n",
      "736/736 [==============================] - 0s 30us/step - loss: 0.4289 - acc: 0.8207 - val_loss: 0.6670 - val_acc: 0.7011\n",
      "Epoch 14/100\n",
      "736/736 [==============================] - 0s 30us/step - loss: 0.4173 - acc: 0.8207 - val_loss: 0.6857 - val_acc: 0.7011\n",
      "Epoch 15/100\n",
      "736/736 [==============================] - 0s 33us/step - loss: 0.4037 - acc: 0.8207 - val_loss: 0.6798 - val_acc: 0.7011\n",
      "Epoch 16/100\n",
      "736/736 [==============================] - 0s 36us/step - loss: 0.3937 - acc: 0.8207 - val_loss: 0.7326 - val_acc: 0.7011\n",
      "Epoch 17/100\n",
      "736/736 [==============================] - 0s 33us/step - loss: 0.3759 - acc: 0.8207 - val_loss: 0.7828 - val_acc: 0.7011\n",
      "Epoch 18/100\n",
      "736/736 [==============================] - 0s 34us/step - loss: 0.3610 - acc: 0.8247 - val_loss: 0.7935 - val_acc: 0.6793\n",
      "Epoch 19/100\n",
      "736/736 [==============================] - 0s 33us/step - loss: 0.3554 - acc: 0.8438 - val_loss: 0.8759 - val_acc: 0.6848\n",
      "Epoch 20/100\n",
      "736/736 [==============================] - 0s 33us/step - loss: 0.3482 - acc: 0.8438 - val_loss: 0.8868 - val_acc: 0.6793\n",
      "Epoch 21/100\n",
      "736/736 [==============================] - 0s 34us/step - loss: 0.3386 - acc: 0.8505 - val_loss: 0.9134 - val_acc: 0.6576\n",
      "Epoch 22/100\n",
      "736/736 [==============================] - 0s 33us/step - loss: 0.3313 - acc: 0.8573 - val_loss: 0.8663 - val_acc: 0.6413\n",
      "Epoch 23/100\n",
      "736/736 [==============================] - 0s 34us/step - loss: 0.3296 - acc: 0.8560 - val_loss: 0.9893 - val_acc: 0.6685\n",
      "Epoch 24/100\n",
      "736/736 [==============================] - 0s 33us/step - loss: 0.3219 - acc: 0.8587 - val_loss: 1.0461 - val_acc: 0.6793\n",
      "Epoch 25/100\n",
      "736/736 [==============================] - 0s 34us/step - loss: 0.3135 - acc: 0.8655 - val_loss: 1.0588 - val_acc: 0.6522\n",
      "Epoch 26/100\n",
      "736/736 [==============================] - 0s 35us/step - loss: 0.2995 - acc: 0.8682 - val_loss: 1.0466 - val_acc: 0.6522\n",
      "Epoch 27/100\n",
      "736/736 [==============================] - 0s 35us/step - loss: 0.3065 - acc: 0.8573 - val_loss: 1.1991 - val_acc: 0.6739\n",
      "Epoch 28/100\n",
      "736/736 [==============================] - 0s 38us/step - loss: 0.2928 - acc: 0.8736 - val_loss: 1.0878 - val_acc: 0.6467\n",
      "Epoch 29/100\n",
      "736/736 [==============================] - 0s 37us/step - loss: 0.2754 - acc: 0.8832 - val_loss: 1.1988 - val_acc: 0.6522\n",
      "Epoch 30/100\n",
      "736/736 [==============================] - 0s 37us/step - loss: 0.2683 - acc: 0.8859 - val_loss: 1.1848 - val_acc: 0.6304\n",
      "Epoch 31/100\n",
      "736/736 [==============================] - 0s 36us/step - loss: 0.2720 - acc: 0.8818 - val_loss: 1.2090 - val_acc: 0.6196\n",
      "Epoch 32/100\n",
      "736/736 [==============================] - 0s 31us/step - loss: 0.2576 - acc: 0.8995 - val_loss: 1.3037 - val_acc: 0.6467\n",
      "Epoch 33/100\n",
      "736/736 [==============================] - 0s 33us/step - loss: 0.2632 - acc: 0.8940 - val_loss: 1.1969 - val_acc: 0.5707\n",
      "Epoch 34/100\n",
      "736/736 [==============================] - 0s 32us/step - loss: 0.2349 - acc: 0.9117 - val_loss: 1.3428 - val_acc: 0.6196\n",
      "Epoch 35/100\n",
      "736/736 [==============================] - 0s 30us/step - loss: 0.2116 - acc: 0.9198 - val_loss: 1.3796 - val_acc: 0.6196\n",
      "Epoch 36/100\n",
      "736/736 [==============================] - 0s 28us/step - loss: 0.2097 - acc: 0.9348 - val_loss: 1.3917 - val_acc: 0.6033\n",
      "Epoch 37/100\n",
      "736/736 [==============================] - 0s 29us/step - loss: 0.1860 - acc: 0.9402 - val_loss: 1.6793 - val_acc: 0.6359\n",
      "Epoch 38/100\n",
      "736/736 [==============================] - 0s 31us/step - loss: 0.1683 - acc: 0.9511 - val_loss: 1.6754 - val_acc: 0.6359\n",
      "Epoch 39/100\n",
      "736/736 [==============================] - 0s 31us/step - loss: 0.1448 - acc: 0.9620 - val_loss: 1.7296 - val_acc: 0.6196\n",
      "Epoch 40/100\n",
      "736/736 [==============================] - 0s 30us/step - loss: 0.1270 - acc: 0.9701 - val_loss: 1.7116 - val_acc: 0.6141\n",
      "Epoch 41/100\n",
      "736/736 [==============================] - 0s 32us/step - loss: 0.1172 - acc: 0.9783 - val_loss: 1.9212 - val_acc: 0.6304\n",
      "Epoch 42/100\n",
      "736/736 [==============================] - 0s 31us/step - loss: 0.0988 - acc: 0.9783 - val_loss: 1.9329 - val_acc: 0.6304\n",
      "Epoch 43/100\n",
      "736/736 [==============================] - 0s 31us/step - loss: 0.0899 - acc: 0.9810 - val_loss: 2.0285 - val_acc: 0.6304\n",
      "Epoch 44/100\n",
      "736/736 [==============================] - 0s 32us/step - loss: 0.0761 - acc: 0.9851 - val_loss: 2.1723 - val_acc: 0.6359\n",
      "Epoch 45/100\n",
      "736/736 [==============================] - 0s 31us/step - loss: 0.0646 - acc: 0.9891 - val_loss: 2.2215 - val_acc: 0.6304\n",
      "Epoch 46/100\n",
      "736/736 [==============================] - 0s 32us/step - loss: 0.0569 - acc: 0.9891 - val_loss: 2.2884 - val_acc: 0.6359\n",
      "Epoch 47/100\n",
      "736/736 [==============================] - 0s 34us/step - loss: 0.0523 - acc: 0.9905 - val_loss: 2.4459 - val_acc: 0.6413\n",
      "Epoch 48/100\n",
      "736/736 [==============================] - 0s 35us/step - loss: 0.0496 - acc: 0.9905 - val_loss: 2.4077 - val_acc: 0.6304\n",
      "Epoch 49/100\n",
      "736/736 [==============================] - 0s 33us/step - loss: 0.0461 - acc: 0.9905 - val_loss: 2.5009 - val_acc: 0.6522\n",
      "Epoch 50/100\n",
      "736/736 [==============================] - 0s 34us/step - loss: 0.0442 - acc: 0.9905 - val_loss: 2.5483 - val_acc: 0.6413\n",
      "Epoch 51/100\n",
      "736/736 [==============================] - 0s 30us/step - loss: 0.0433 - acc: 0.9905 - val_loss: 2.6381 - val_acc: 0.6522\n",
      "Epoch 52/100\n",
      "736/736 [==============================] - 0s 30us/step - loss: 0.0421 - acc: 0.9905 - val_loss: 2.6127 - val_acc: 0.6467\n",
      "Epoch 53/100\n",
      "736/736 [==============================] - 0s 30us/step - loss: 0.0415 - acc: 0.9905 - val_loss: 2.7122 - val_acc: 0.6522\n",
      "Epoch 54/100\n",
      "736/736 [==============================] - 0s 30us/step - loss: 0.0407 - acc: 0.9905 - val_loss: 2.7424 - val_acc: 0.6522\n",
      "Epoch 55/100\n",
      "736/736 [==============================] - 0s 30us/step - loss: 0.0405 - acc: 0.9905 - val_loss: 2.6930 - val_acc: 0.6467\n",
      "Epoch 56/100\n",
      "736/736 [==============================] - 0s 29us/step - loss: 0.0402 - acc: 0.9905 - val_loss: 2.7526 - val_acc: 0.6522\n",
      "Epoch 57/100\n",
      "736/736 [==============================] - 0s 31us/step - loss: 0.0398 - acc: 0.9905 - val_loss: 2.7894 - val_acc: 0.6467\n",
      "Epoch 58/100\n",
      "736/736 [==============================] - 0s 29us/step - loss: 0.0395 - acc: 0.9905 - val_loss: 2.7845 - val_acc: 0.6467\n",
      "Epoch 59/100\n",
      "736/736 [==============================] - 0s 30us/step - loss: 0.0393 - acc: 0.9905 - val_loss: 2.8052 - val_acc: 0.6522\n",
      "Epoch 60/100\n",
      "736/736 [==============================] - 0s 31us/step - loss: 0.0394 - acc: 0.9905 - val_loss: 2.8346 - val_acc: 0.6522\n",
      "Epoch 61/100\n",
      "736/736 [==============================] - 0s 29us/step - loss: 0.0389 - acc: 0.9905 - val_loss: 2.8377 - val_acc: 0.6467\n",
      "Epoch 62/100\n",
      "736/736 [==============================] - 0s 31us/step - loss: 0.0387 - acc: 0.9905 - val_loss: 2.8790 - val_acc: 0.6522\n",
      "Epoch 63/100\n",
      "736/736 [==============================] - 0s 29us/step - loss: 0.0386 - acc: 0.9905 - val_loss: 2.8814 - val_acc: 0.6522\n",
      "Epoch 64/100\n",
      "736/736 [==============================] - 0s 30us/step - loss: 0.0387 - acc: 0.9905 - val_loss: 2.8630 - val_acc: 0.6467\n",
      "Epoch 65/100\n",
      "736/736 [==============================] - 0s 30us/step - loss: 0.0386 - acc: 0.9905 - val_loss: 2.9030 - val_acc: 0.6522\n",
      "Epoch 66/100\n",
      "736/736 [==============================] - 0s 31us/step - loss: 0.0375 - acc: 0.9905 - val_loss: 2.9028 - val_acc: 0.6467\n",
      "Epoch 67/100\n",
      "736/736 [==============================] - 0s 31us/step - loss: 0.0373 - acc: 0.9905 - val_loss: 2.8644 - val_acc: 0.6467\n",
      "Epoch 68/100\n",
      "736/736 [==============================] - 0s 36us/step - loss: 0.0327 - acc: 0.9918 - val_loss: 2.7855 - val_acc: 0.6413\n",
      "Epoch 69/100\n",
      "736/736 [==============================] - 0s 33us/step - loss: 0.0267 - acc: 0.9932 - val_loss: 2.8597 - val_acc: 0.6467\n",
      "Epoch 70/100\n",
      "736/736 [==============================] - 0s 35us/step - loss: 0.0221 - acc: 0.9959 - val_loss: 2.8153 - val_acc: 0.6304\n",
      "Epoch 71/100\n",
      "736/736 [==============================] - 0s 35us/step - loss: 0.0183 - acc: 0.9959 - val_loss: 2.9065 - val_acc: 0.6576\n",
      "Epoch 72/100\n",
      "736/736 [==============================] - 0s 34us/step - loss: 0.0139 - acc: 0.9986 - val_loss: 3.0032 - val_acc: 0.6630\n",
      "Epoch 73/100\n",
      "736/736 [==============================] - 0s 33us/step - loss: 0.0120 - acc: 0.9986 - val_loss: 3.0289 - val_acc: 0.6522\n",
      "Epoch 74/100\n",
      "736/736 [==============================] - 0s 38us/step - loss: 0.0109 - acc: 0.9986 - val_loss: 3.0797 - val_acc: 0.6685\n",
      "Epoch 75/100\n",
      "736/736 [==============================] - 0s 38us/step - loss: 0.0103 - acc: 0.9986 - val_loss: 3.1098 - val_acc: 0.6522\n",
      "Epoch 76/100\n",
      "736/736 [==============================] - 0s 37us/step - loss: 0.0099 - acc: 0.9986 - val_loss: 3.1317 - val_acc: 0.6413\n",
      "Epoch 77/100\n",
      "736/736 [==============================] - 0s 40us/step - loss: 0.0096 - acc: 0.9986 - val_loss: 3.1260 - val_acc: 0.6413\n",
      "Epoch 78/100\n",
      "736/736 [==============================] - 0s 36us/step - loss: 0.0093 - acc: 0.9986 - val_loss: 3.1889 - val_acc: 0.6576\n",
      "Epoch 79/100\n",
      "736/736 [==============================] - 0s 38us/step - loss: 0.0092 - acc: 0.9986 - val_loss: 3.1927 - val_acc: 0.6467\n",
      "Epoch 80/100\n",
      "736/736 [==============================] - 0s 35us/step - loss: 0.0090 - acc: 0.9986 - val_loss: 3.2291 - val_acc: 0.6630\n",
      "Epoch 81/100\n",
      "736/736 [==============================] - 0s 37us/step - loss: 0.0089 - acc: 0.9986 - val_loss: 3.2357 - val_acc: 0.6576\n",
      "Epoch 82/100\n",
      "736/736 [==============================] - 0s 37us/step - loss: 0.0088 - acc: 0.9986 - val_loss: 3.2438 - val_acc: 0.6576\n",
      "Epoch 83/100\n",
      "736/736 [==============================] - 0s 35us/step - loss: 0.0087 - acc: 0.9986 - val_loss: 3.2464 - val_acc: 0.6467\n",
      "Epoch 84/100\n",
      "736/736 [==============================] - 0s 34us/step - loss: 0.0087 - acc: 0.9986 - val_loss: 3.2753 - val_acc: 0.6576\n",
      "Epoch 85/100\n",
      "736/736 [==============================] - 0s 36us/step - loss: 0.0086 - acc: 0.9986 - val_loss: 3.2890 - val_acc: 0.6522\n",
      "Epoch 86/100\n",
      "736/736 [==============================] - 0s 35us/step - loss: 0.0085 - acc: 0.9986 - val_loss: 3.2793 - val_acc: 0.6522\n",
      "Epoch 87/100\n",
      "736/736 [==============================] - 0s 36us/step - loss: 0.0085 - acc: 0.9986 - val_loss: 3.2986 - val_acc: 0.6467\n",
      "Epoch 88/100\n",
      "736/736 [==============================] - 0s 36us/step - loss: 0.0085 - acc: 0.9986 - val_loss: 3.2903 - val_acc: 0.6413\n",
      "Epoch 89/100\n",
      "736/736 [==============================] - 0s 35us/step - loss: 0.0084 - acc: 0.9986 - val_loss: 3.3179 - val_acc: 0.6522\n",
      "Epoch 90/100\n",
      "736/736 [==============================] - 0s 36us/step - loss: 0.0084 - acc: 0.9986 - val_loss: 3.3199 - val_acc: 0.6522\n",
      "Epoch 91/100\n",
      "736/736 [==============================] - 0s 33us/step - loss: 0.0084 - acc: 0.9986 - val_loss: 3.3256 - val_acc: 0.6522\n",
      "Epoch 92/100\n",
      "736/736 [==============================] - 0s 33us/step - loss: 0.0083 - acc: 0.9986 - val_loss: 3.3341 - val_acc: 0.6522\n",
      "Epoch 93/100\n",
      "736/736 [==============================] - 0s 35us/step - loss: 0.0083 - acc: 0.9986 - val_loss: 3.3429 - val_acc: 0.6576\n",
      "Epoch 94/100\n",
      "736/736 [==============================] - 0s 36us/step - loss: 0.0083 - acc: 0.9986 - val_loss: 3.3418 - val_acc: 0.6522\n",
      "Epoch 95/100\n",
      "736/736 [==============================] - 0s 35us/step - loss: 0.0083 - acc: 0.9986 - val_loss: 3.3379 - val_acc: 0.6522\n",
      "Epoch 96/100\n",
      "736/736 [==============================] - 0s 35us/step - loss: 0.0082 - acc: 0.9986 - val_loss: 3.3563 - val_acc: 0.6576\n",
      "Epoch 97/100\n",
      "736/736 [==============================] - 0s 35us/step - loss: 0.0082 - acc: 0.9986 - val_loss: 3.3637 - val_acc: 0.6522\n",
      "Epoch 98/100\n",
      "736/736 [==============================] - 0s 34us/step - loss: 0.0082 - acc: 0.9986 - val_loss: 3.3575 - val_acc: 0.6522\n",
      "Epoch 99/100\n",
      "736/736 [==============================] - 0s 36us/step - loss: 0.0082 - acc: 0.9986 - val_loss: 3.3688 - val_acc: 0.6630\n",
      "Epoch 100/100\n",
      "736/736 [==============================] - 0s 35us/step - loss: 0.0082 - acc: 0.9986 - val_loss: 3.3778 - val_acc: 0.6522\n"
     ]
    }
   ],
   "source": [
    "'''Build, compile, and train a basic neural network on the provided data:'''\n",
    "\n",
    "from keras.models import Sequential\n",
    "from keras.layers.core import Dense, Dropout, Activation \n",
    "from keras.optimizers import Adam\n",
    "\n",
    "import os\n",
    "os.environ['KMP_DUPLICATE_LIB_OK']='True'\n",
    "\n",
    "\n",
    "model = Sequential()\n",
    "\n",
    "model.add(Dense(64, input_shape=x_train.values[0].shape, activation = 'relu'))\n",
    "model.add(Dense(128, activation = 'relu'))\n",
    "model.add(Dense(64, activation = 'relu'))\n",
    "model.add(Dense(1, activation = 'sigmoid'))\n",
    "\n",
    "model.compile(loss = 'binary_crossentropy', optimizer = 'adam', metrics=['accuracy'])\n",
    "\n",
    "history = model.fit(x_train, y_train, batch_size = 32, epochs = 100, shuffle = True, validation_split=.2) #, validation_data = (x_valid, y_valid))\n",
    "\n"
   ]
  },
  {
   "cell_type": "code",
   "execution_count": 52,
   "metadata": {},
   "outputs": [
    {
     "name": "stdout",
     "output_type": "stream",
     "text": [
      "Accuracy of Logistic Regression Model: 92.93478260869566%\n"
     ]
    },
    {
     "data": {
      "text/plain": [
       "array([[707,  26],\n",
       "       [ 39, 148]])"
      ]
     },
     "execution_count": 52,
     "metadata": {},
     "output_type": "execute_result"
    }
   ],
   "source": [
    "#Compare the results:\n",
    "y_pred = np.round(model.predict(x_train))\n",
    "y_real = y.apply(float).values\n",
    "\n",
    "acc = sum(data['Resp']==y_pred.ravel())/len(data['Resp'])\n",
    "print('Accuracy of Logistic Regression Model: {}%'.format(acc*100))\n",
    "\n",
    "confusion_matrix(y_real,y_pred)"
   ]
  },
  {
   "cell_type": "code",
   "execution_count": 53,
   "metadata": {},
   "outputs": [],
   "source": [
    "#Better! Let's compare accuracy over training time for training and validation data:"
   ]
  },
  {
   "cell_type": "code",
   "execution_count": 54,
   "metadata": {},
   "outputs": [
    {
     "data": {
      "text/plain": [
       "[<matplotlib.lines.Line2D at 0x7fa03cb74860>]"
      ]
     },
     "execution_count": 54,
     "metadata": {},
     "output_type": "execute_result"
    },
    {
     "data": {
      "image/png": "[encoded data removed]",
      "text/plain": [
       "<Figure size 432x288 with 1 Axes>"
      ]
     },
     "metadata": {
      "needs_background": "light"
     },
     "output_type": "display_data"
    }
   ],
   "source": [
    "plt.plot(history.history['acc'])\n",
    "plt.plot(history.history['val_acc'])"
   ]
  },
  {
   "cell_type": "code",
   "execution_count": 55,
   "metadata": {},
   "outputs": [],
   "source": [
    "#Oh.\n",
    "#We'll probably need to regularize, then. "
   ]
  },
  {
   "cell_type": "code",
   "execution_count": null,
   "metadata": {},
   "outputs": [],
   "source": []
  }
 ],
 "metadata": {
  "colab": {
   "collapsed_sections": [],
   "name": "Kaggle_HIV_Matt.ipynb",
   "provenance": [],
   "version": "0.3.2"
  },
  "kernelspec": {
   "display_name": "Python 3",
   "language": "python",
   "name": "python3"
  },
  "language_info": {
   "codemirror_mode": {
    "name": "ipython",
    "version": 3
   },
   "file_extension": ".py",
   "mimetype": "text/x-python",
   "name": "python",
   "nbconvert_exporter": "python",
   "pygments_lexer": "ipython3",
   "version": "3.7.1"
  }
 },
 "nbformat": 4,
 "nbformat_minor": 2
}
