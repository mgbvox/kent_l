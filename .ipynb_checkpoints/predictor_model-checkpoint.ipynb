{
 "cells": [
  {
   "cell_type": "code",
   "execution_count": 45,
   "metadata": {},
   "outputs": [
    {
     "name": "stdout",
     "output_type": "stream",
     "text": [
      "Populating the interactive namespace from numpy and matplotlib\n"
     ]
    }
   ],
   "source": [
    "'''Imports'''\n",
    "%pylab inline\n",
    "import pandas as pd\n",
    "import json\n",
    "import os\n",
    "\n",
    "import keras\n",
    "from keras.layers import Dense\n",
    "from keras.models import Sequential\n",
    "from keras.utils import to_categorical\n",
    "from keras.optimizers import Adam"
   ]
  },
  {
   "cell_type": "code",
   "execution_count": 46,
   "metadata": {},
   "outputs": [],
   "source": [
    "#Quick wrapper method to make strings easier to work with.\n",
    "def rm_whitespace(s):\n",
    "    return ''.join(s.split())"
   ]
  },
  {
   "cell_type": "code",
   "execution_count": 47,
   "metadata": {},
   "outputs": [],
   "source": [
    "#First, read in the data.\n",
    "data = pd.concat([pd.read_csv('training_data.csv'),pd.read_csv('test_data.csv')])\n",
    "data = data.dropna(how='any')\n",
    "\n",
    "#Log response types and gene types:\n",
    "response_types = [v for v in data['Resp'].unique() if type(v)==int]\n",
    "gene_types = [rm_whitespace(c) for c in data.columns if 'Seq' in c]"
   ]
  },
  {
   "cell_type": "code",
   "execution_count": 48,
   "metadata": {},
   "outputs": [],
   "source": [
    "json_results = []\n",
    "all_muts = set()\n",
    "all_drug_classes = set()\n",
    "all_drugs = set()\n",
    "all_drug_scores = set()\n",
    "all_text_scores = set()\n",
    "\n",
    "all_results = []\n",
    "\n",
    "counter = 0\n",
    "for response_type in response_types:\n",
    "    for gene_type in gene_types:\n",
    "        f_name = './files/{}/{}'.format(response_type,gene_type)\n",
    "\n",
    "        gene_mutations = pd.DataFrame()\n",
    "        for f in os.listdir(f_name):\n",
    "            if '.DS_Store' not in f:\n",
    "                json_data = open('{}/{}/{}_seq.json'.format(f_name,f,f), 'r')\n",
    "                jdata = json.loads(json_data.read())\n",
    "                json_results.append(jdata)\n",
    "                \n",
    "                gene_type = jdata[0]['alignedGeneSequences'][0]['gene']['name']\n",
    "                \n",
    "                pairwise = jdata[0]['alignedGeneSequences'][0]['prettyPairwise']\n",
    "                aligned = jdata[0]['alignedGeneSequences'][0]\n",
    "                drugscores = jdata[0]['drugResistance'][0]['drugScores']\n",
    "                \n",
    "                #Get Nucleic Acids:\n",
    "                nas = aligned['alignedNAs']\n",
    "                #Get AAs:\n",
    "                aas = aligned['alignedAAs']\n",
    "                #Grab mutations at these locations\n",
    "                muts = pairwise['mutationLine']\n",
    "                \n",
    "                pos = pairwise['positionLine']\n",
    "                \n",
    "                res = [counter, response_type, gene_type, pos, nas, aas, muts]\n",
    "                \n",
    "                \n",
    "                for mut in muts:\n",
    "                    all_muts.add(mut)\n",
    "                for score in drugscores:\n",
    "                    dclass = score['drugClass']['name']\n",
    "                    drug = score['drug']['name']\n",
    "                    dscore = score['score']\n",
    "                    txt_score = score['text']\n",
    "                    \n",
    "                    \n",
    "                    \n",
    "                    all_drug_classes.add(dclass)\n",
    "                    all_drugs.add(drug)\n",
    "                    all_drug_scores.add(dscore)\n",
    "                    all_text_scores.add(txt_score)\n",
    "                \n",
    "                res += [drugscores]\n",
    "                all_results.append(res)\n",
    "                \n",
    "            counter += 1\n",
    "            \n",
    "all_muts = sorted(list(all_muts))"
   ]
  },
  {
   "cell_type": "code",
   "execution_count": 49,
   "metadata": {},
   "outputs": [
    {
     "data": {
      "text/plain": [
       "'RT'"
      ]
     },
     "execution_count": 49,
     "metadata": {},
     "output_type": "execute_result"
    }
   ],
   "source": [
    "gene_type"
   ]
  },
  {
   "cell_type": "code",
   "execution_count": 50,
   "metadata": {},
   "outputs": [],
   "source": [
    "columns = ['counter', 'response_type', 'gene_type', 'pos', 'nas', 'aas', 'muts', 'drugscores']\n",
    "df = pd.DataFrame.from_records(all_results, columns=columns).drop('counter', axis=1)\n",
    "df = df[df['pos'].apply(lambda x: x[0]==' 1 ')]"
   ]
  },
  {
   "cell_type": "code",
   "execution_count": 51,
   "metadata": {},
   "outputs": [],
   "source": [
    "pr = df[df['gene_type']=='PR']"
   ]
  },
  {
   "cell_type": "code",
   "execution_count": 52,
   "metadata": {},
   "outputs": [
    {
     "name": "stderr",
     "output_type": "stream",
     "text": [
      "/Users/mgb/anaconda3/lib/python3.6/site-packages/ipykernel_launcher.py:5: SettingWithCopyWarning: \n",
      "A value is trying to be set on a copy of a slice from a DataFrame.\n",
      "Try using .loc[row_indexer,col_indexer] = value instead\n",
      "\n",
      "See the caveats in the documentation: http://pandas.pydata.org/pandas-docs/stable/indexing.html#indexing-view-versus-copy\n",
      "  \"\"\"\n"
     ]
    }
   ],
   "source": [
    "oh_muts = pr['muts'].apply(lambda x: \\\n",
    "                           np.array([[0 if mut != mut_type else 1 for mut_type in all_muts] for mut in x]).ravel())\n",
    "most_common_len = oh_muts.apply(len).value_counts().index[0]\n",
    "oh_muts = oh_muts[oh_muts.apply(len)==most_common_len]\n",
    "pr['oh_muts'] = oh_muts"
   ]
  },
  {
   "cell_type": "code",
   "execution_count": 53,
   "metadata": {},
   "outputs": [],
   "source": [
    "pr = pr.dropna()"
   ]
  },
  {
   "cell_type": "code",
   "execution_count": 54,
   "metadata": {},
   "outputs": [],
   "source": [
    "x = pr['oh_muts']\n",
    "x = np.stack(x)\n",
    "y = to_categorical(pr['response_type'])"
   ]
  },
  {
   "cell_type": "code",
   "execution_count": null,
   "metadata": {},
   "outputs": [],
   "source": []
  },
  {
   "cell_type": "code",
   "execution_count": 25,
   "metadata": {},
   "outputs": [
    {
     "name": "stdout",
     "output_type": "stream",
     "text": [
      "WARNING:tensorflow:From /Users/mgb/anaconda3/lib/python3.6/site-packages/tensorflow/python/framework/op_def_library.py:263: colocate_with (from tensorflow.python.framework.ops) is deprecated and will be removed in a future version.\n",
      "Instructions for updating:\n",
      "Colocations handled automatically by placer.\n"
     ]
    }
   ],
   "source": [
    "input_shape = x[0].shape\n",
    "model = Sequential()\n",
    "model.add(Dense(128, input_shape=input_shape, activation='relu'))\n",
    "model.add(Dense(128, activation='relu'))\n",
    "model.add(Dense(64, activation='relu'))\n",
    "model.add(Dense(32, activation='relu'))\n",
    "model.add(Dense(y[0].shape[0],activation='softmax'))"
   ]
  },
  {
   "cell_type": "code",
   "execution_count": 26,
   "metadata": {},
   "outputs": [],
   "source": [
    "adam = Adam(lr=0.0001)\n",
    "model.compile(optimizer=adam, loss='binary_crossentropy', metrics=['accuracy'])"
   ]
  },
  {
   "cell_type": "code",
   "execution_count": 27,
   "metadata": {},
   "outputs": [
    {
     "name": "stdout",
     "output_type": "stream",
     "text": [
      "WARNING:tensorflow:From /Users/mgb/anaconda3/lib/python3.6/site-packages/tensorflow/python/ops/math_ops.py:3066: to_int32 (from tensorflow.python.ops.math_ops) is deprecated and will be removed in a future version.\n",
      "Instructions for updating:\n",
      "Use tf.cast instead.\n",
      "Epoch 1/100\n",
      "887/887 [==============================] - 2s 3ms/step - loss: 0.6383 - acc: 0.7565\n",
      "Epoch 2/100\n",
      "887/887 [==============================] - 1s 1ms/step - loss: 0.5263 - acc: 0.7993\n",
      "Epoch 3/100\n",
      "887/887 [==============================] - 1s 1ms/step - loss: 0.5023 - acc: 0.7993\n",
      "Epoch 4/100\n",
      "887/887 [==============================] - 1s 1ms/step - loss: 0.4995 - acc: 0.7993\n",
      "Epoch 5/100\n",
      "887/887 [==============================] - 1s 1ms/step - loss: 0.4961 - acc: 0.7993\n",
      "Epoch 6/100\n",
      "887/887 [==============================] - 1s 1ms/step - loss: 0.4912 - acc: 0.7993\n",
      "Epoch 7/100\n",
      "887/887 [==============================] - 1s 1ms/step - loss: 0.4869 - acc: 0.7993\n",
      "Epoch 8/100\n",
      "887/887 [==============================] - 1s 1ms/step - loss: 0.4816 - acc: 0.7993\n",
      "Epoch 9/100\n",
      "887/887 [==============================] - 1s 1ms/step - loss: 0.4749 - acc: 0.7993\n",
      "Epoch 10/100\n",
      "887/887 [==============================] - 1s 1ms/step - loss: 0.4686 - acc: 0.7993\n",
      "Epoch 11/100\n",
      "887/887 [==============================] - 1s 1ms/step - loss: 0.4628 - acc: 0.7993\n",
      "Epoch 12/100\n",
      "887/887 [==============================] - 1s 1ms/step - loss: 0.4554 - acc: 0.7993\n",
      "Epoch 13/100\n",
      "887/887 [==============================] - 1s 1ms/step - loss: 0.4515 - acc: 0.7993\n",
      "Epoch 14/100\n",
      "887/887 [==============================] - 1s 1ms/step - loss: 0.4373 - acc: 0.7993\n",
      "Epoch 15/100\n",
      "887/887 [==============================] - 1s 1ms/step - loss: 0.4333 - acc: 0.7993\n",
      "Epoch 16/100\n",
      "887/887 [==============================] - 1s 1ms/step - loss: 0.4245 - acc: 0.7993\n",
      "Epoch 17/100\n",
      "887/887 [==============================] - 1s 1ms/step - loss: 0.4149 - acc: 0.7993\n",
      "Epoch 18/100\n",
      "887/887 [==============================] - 1s 1ms/step - loss: 0.4069 - acc: 0.7993\n",
      "Epoch 19/100\n",
      "887/887 [==============================] - 1s 2ms/step - loss: 0.3985 - acc: 0.7993\n",
      "Epoch 20/100\n",
      "887/887 [==============================] - 1s 2ms/step - loss: 0.4003 - acc: 0.8106\n",
      "Epoch 21/100\n",
      "887/887 [==============================] - 1s 1ms/step - loss: 0.3852 - acc: 0.8038\n",
      "Epoch 22/100\n",
      "887/887 [==============================] - 1s 2ms/step - loss: 0.3750 - acc: 0.8106\n",
      "Epoch 23/100\n",
      "887/887 [==============================] - 2s 2ms/step - loss: 0.3655 - acc: 0.8162\n",
      "Epoch 24/100\n",
      "887/887 [==============================] - 1s 1ms/step - loss: 0.3673 - acc: 0.8196\n",
      "Epoch 25/100\n",
      "887/887 [==============================] - 1s 1ms/step - loss: 0.3545 - acc: 0.8365\n",
      "Epoch 26/100\n",
      "887/887 [==============================] - 1s 1ms/step - loss: 0.3453 - acc: 0.8467\n",
      "Epoch 27/100\n",
      "887/887 [==============================] - 1s 1ms/step - loss: 0.3358 - acc: 0.8422\n",
      "Epoch 28/100\n",
      "887/887 [==============================] - 1s 1ms/step - loss: 0.3429 - acc: 0.8388\n",
      "Epoch 29/100\n",
      "887/887 [==============================] - 1s 1ms/step - loss: 0.3250 - acc: 0.8489\n",
      "Epoch 30/100\n",
      "887/887 [==============================] - 1s 2ms/step - loss: 0.3165 - acc: 0.8568\n",
      "Epoch 31/100\n",
      "887/887 [==============================] - 1s 1ms/step - loss: 0.3119 - acc: 0.8658\n",
      "Epoch 32/100\n",
      "887/887 [==============================] - 1s 2ms/step - loss: 0.3044 - acc: 0.8636\n",
      "Epoch 33/100\n",
      "887/887 [==============================] - 1s 1ms/step - loss: 0.3019 - acc: 0.8591\n",
      "Epoch 34/100\n",
      "887/887 [==============================] - 1s 2ms/step - loss: 0.2969 - acc: 0.8715\n",
      "Epoch 35/100\n",
      "887/887 [==============================] - 1s 2ms/step - loss: 0.2842 - acc: 0.8726\n",
      "Epoch 36/100\n",
      "887/887 [==============================] - 1s 1ms/step - loss: 0.2933 - acc: 0.8726\n",
      "Epoch 37/100\n",
      "887/887 [==============================] - 1s 2ms/step - loss: 0.2838 - acc: 0.8771\n",
      "Epoch 38/100\n",
      "887/887 [==============================] - 1s 1ms/step - loss: 0.2824 - acc: 0.8749\n",
      "Epoch 39/100\n",
      "887/887 [==============================] - 1s 2ms/step - loss: 0.2926 - acc: 0.8771\n",
      "Epoch 40/100\n",
      "887/887 [==============================] - 1s 1ms/step - loss: 0.2742 - acc: 0.8805\n",
      "Epoch 41/100\n",
      "887/887 [==============================] - 1s 2ms/step - loss: 0.2650 - acc: 0.8828\n",
      "Epoch 42/100\n",
      "887/887 [==============================] - 1s 2ms/step - loss: 0.2740 - acc: 0.8782\n",
      "Epoch 43/100\n",
      "887/887 [==============================] - 1s 2ms/step - loss: 0.2763 - acc: 0.8805\n",
      "Epoch 44/100\n",
      "887/887 [==============================] - 1s 2ms/step - loss: 0.2682 - acc: 0.8906\n",
      "Epoch 45/100\n",
      "887/887 [==============================] - 1s 2ms/step - loss: 0.2576 - acc: 0.8873\n",
      "Epoch 46/100\n",
      "887/887 [==============================] - 1s 1ms/step - loss: 0.2632 - acc: 0.8805\n",
      "Epoch 47/100\n",
      "887/887 [==============================] - 1s 1ms/step - loss: 0.2611 - acc: 0.8794\n",
      "Epoch 48/100\n",
      "887/887 [==============================] - 1s 2ms/step - loss: 0.2536 - acc: 0.8771\n",
      "Epoch 49/100\n",
      "887/887 [==============================] - 1s 1ms/step - loss: 0.2492 - acc: 0.8895\n",
      "Epoch 50/100\n",
      "887/887 [==============================] - 1s 2ms/step - loss: 0.2460 - acc: 0.8963\n",
      "Epoch 51/100\n",
      "887/887 [==============================] - 1s 2ms/step - loss: 0.2414 - acc: 0.8985\n",
      "Epoch 52/100\n",
      "887/887 [==============================] - 1s 1ms/step - loss: 0.2444 - acc: 0.8873\n",
      "Epoch 53/100\n",
      "887/887 [==============================] - 1s 2ms/step - loss: 0.2444 - acc: 0.8884\n",
      "Epoch 54/100\n",
      "887/887 [==============================] - 1s 1ms/step - loss: 0.2402 - acc: 0.8963\n",
      "Epoch 55/100\n",
      "887/887 [==============================] - 1s 1ms/step - loss: 0.2431 - acc: 0.8963\n",
      "Epoch 56/100\n",
      "887/887 [==============================] - 1s 2ms/step - loss: 0.2445 - acc: 0.8929\n",
      "Epoch 57/100\n",
      "887/887 [==============================] - 2s 2ms/step - loss: 0.2437 - acc: 0.8906\n",
      "Epoch 58/100\n",
      "887/887 [==============================] - 2s 2ms/step - loss: 0.2284 - acc: 0.8997\n",
      "Epoch 59/100\n",
      "887/887 [==============================] - 1s 1ms/step - loss: 0.2234 - acc: 0.8985\n",
      "Epoch 60/100\n",
      "887/887 [==============================] - 1s 1ms/step - loss: 0.2341 - acc: 0.8884\n",
      "Epoch 61/100\n",
      "887/887 [==============================] - 1s 1ms/step - loss: 0.2215 - acc: 0.8963\n",
      "Epoch 62/100\n",
      "887/887 [==============================] - 1s 2ms/step - loss: 0.2146 - acc: 0.9030\n",
      "Epoch 63/100\n",
      "887/887 [==============================] - 2s 2ms/step - loss: 0.2151 - acc: 0.9076\n",
      "Epoch 64/100\n",
      "887/887 [==============================] - 1s 1ms/step - loss: 0.2174 - acc: 0.9076\n",
      "Epoch 65/100\n",
      "887/887 [==============================] - 1s 2ms/step - loss: 0.2068 - acc: 0.9087\n",
      "Epoch 66/100\n",
      "887/887 [==============================] - 1s 1ms/step - loss: 0.2065 - acc: 0.9076\n",
      "Epoch 67/100\n",
      "887/887 [==============================] - 2s 2ms/step - loss: 0.2144 - acc: 0.9053\n",
      "Epoch 68/100\n",
      "887/887 [==============================] - 2s 2ms/step - loss: 0.1981 - acc: 0.9177\n",
      "Epoch 69/100\n",
      "887/887 [==============================] - 2s 2ms/step - loss: 0.2062 - acc: 0.9064\n",
      "Epoch 70/100\n",
      "887/887 [==============================] - 1s 1ms/step - loss: 0.2069 - acc: 0.9109\n",
      "Epoch 71/100\n",
      "887/887 [==============================] - 1s 1ms/step - loss: 0.1959 - acc: 0.9132\n",
      "Epoch 72/100\n",
      "887/887 [==============================] - 1s 1ms/step - loss: 0.1928 - acc: 0.9154\n",
      "Epoch 73/100\n",
      "887/887 [==============================] - 1s 2ms/step - loss: 0.1967 - acc: 0.9132\n",
      "Epoch 74/100\n",
      "887/887 [==============================] - 2s 2ms/step - loss: 0.1964 - acc: 0.9109\n",
      "Epoch 75/100\n",
      "887/887 [==============================] - 1s 2ms/step - loss: 0.1880 - acc: 0.9200\n",
      "Epoch 76/100\n",
      "887/887 [==============================] - 2s 2ms/step - loss: 0.1999 - acc: 0.9098\n",
      "Epoch 77/100\n",
      "887/887 [==============================] - 1s 1ms/step - loss: 0.2086 - acc: 0.9098\n",
      "Epoch 78/100\n",
      "887/887 [==============================] - 1s 1ms/step - loss: 0.1835 - acc: 0.9245\n",
      "Epoch 79/100\n",
      "887/887 [==============================] - 1s 1ms/step - loss: 0.1885 - acc: 0.9233\n",
      "Epoch 80/100\n",
      "887/887 [==============================] - 1s 1ms/step - loss: 0.1787 - acc: 0.9278\n",
      "Epoch 81/100\n",
      "887/887 [==============================] - 1s 2ms/step - loss: 0.1841 - acc: 0.9211\n",
      "Epoch 82/100\n",
      "887/887 [==============================] - 1s 1ms/step - loss: 0.1935 - acc: 0.9177\n",
      "Epoch 83/100\n",
      "887/887 [==============================] - 1s 1ms/step - loss: 0.1822 - acc: 0.9200\n",
      "Epoch 84/100\n",
      "887/887 [==============================] - 1s 1ms/step - loss: 0.1761 - acc: 0.9301\n",
      "Epoch 85/100\n",
      "887/887 [==============================] - 1s 1ms/step - loss: 0.1624 - acc: 0.9301\n",
      "Epoch 86/100\n",
      "887/887 [==============================] - 1s 2ms/step - loss: 0.1671 - acc: 0.9278\n",
      "Epoch 87/100\n",
      "887/887 [==============================] - 1s 2ms/step - loss: 0.1669 - acc: 0.9267\n",
      "Epoch 88/100\n",
      "887/887 [==============================] - 1s 2ms/step - loss: 0.1633 - acc: 0.9357\n",
      "Epoch 89/100\n",
      "887/887 [==============================] - 1s 1ms/step - loss: 0.1628 - acc: 0.9290\n",
      "Epoch 90/100\n",
      "887/887 [==============================] - 1s 1ms/step - loss: 0.1605 - acc: 0.9369\n",
      "Epoch 91/100\n",
      "887/887 [==============================] - 1s 2ms/step - loss: 0.1469 - acc: 0.9448\n",
      "Epoch 92/100\n",
      "887/887 [==============================] - 2s 2ms/step - loss: 0.1604 - acc: 0.9278\n",
      "Epoch 93/100\n",
      "887/887 [==============================] - 1s 1ms/step - loss: 0.1574 - acc: 0.9357\n",
      "Epoch 94/100\n",
      "887/887 [==============================] - 1s 1ms/step - loss: 0.1640 - acc: 0.9290\n",
      "Epoch 95/100\n",
      "887/887 [==============================] - 1s 1ms/step - loss: 0.1428 - acc: 0.9459\n",
      "Epoch 96/100\n",
      "887/887 [==============================] - 1s 1ms/step - loss: 0.1348 - acc: 0.9583\n",
      "Epoch 97/100\n",
      "887/887 [==============================] - 1s 1ms/step - loss: 0.1555 - acc: 0.9380\n",
      "Epoch 98/100\n",
      "887/887 [==============================] - 2s 2ms/step - loss: 0.1393 - acc: 0.9448\n",
      "Epoch 99/100\n",
      "887/887 [==============================] - 1s 2ms/step - loss: 0.1492 - acc: 0.9357\n",
      "Epoch 100/100\n",
      "887/887 [==============================] - 1s 2ms/step - loss: 0.1442 - acc: 0.9402\n"
     ]
    }
   ],
   "source": [
    "history = model.fit(x,y, epochs=100, batch_size=32)"
   ]
  },
  {
   "cell_type": "code",
   "execution_count": 28,
   "metadata": {},
   "outputs": [],
   "source": [
    "model.save('pr_100_epochs.h5')"
   ]
  },
  {
   "cell_type": "code",
   "execution_count": 29,
   "metadata": {},
   "outputs": [],
   "source": [
    "model = keras.models.load_model('pr_100_epochs.h5')"
   ]
  },
  {
   "cell_type": "code",
   "execution_count": 118,
   "metadata": {},
   "outputs": [],
   "source": [
    "from IPython.display import display, clear_output"
   ]
  },
  {
   "cell_type": "code",
   "execution_count": 121,
   "metadata": {},
   "outputs": [
    {
     "data": {
      "text/plain": [
       "'99.89% done'"
      ]
     },
     "metadata": {},
     "output_type": "display_data"
    }
   ],
   "source": [
    "def oh_mlist(mlist):\n",
    "    return(np.array([[0 if mut != mut_type else 1 for mut_type in all_muts] for mut in mlist]).ravel())\n",
    "\n",
    "all_ko_results = []\n",
    "\n",
    "#Go through all mutation lists\n",
    "for n,mlist in enumerate(pr['muts']):\n",
    "    try:\n",
    "        orig_oh = np.expand_dims(oh_mlist(mlist), axis=0)\n",
    "\n",
    "        #Sequentially knock out individual mutations\n",
    "        point_altered = []\n",
    "        for idx, mut in enumerate(mlist):\n",
    "            if mut != ' - ':\n",
    "                new_mlist = mlist.copy()\n",
    "                new_mlist[idx] = ' - '\n",
    "                point_altered.append((idx, mut, new_mlist))\n",
    "\n",
    "        #What's the prediction certainty of the original model?\n",
    "        orig_zero_prob = model.predict(np.expand_dims(oh_mlist(mlist), axis=0))[:,0][0]\n",
    "        #How much does the certainty of the model change when a given mut is knocked out?\n",
    "        deltas = model.predict(np.stack([oh_mlist(l[2]) for l in point_altered]))\n",
    "        delta_zero_probs = deltas[:,0]\n",
    "\n",
    "        knockout_effects = sorted(list(zip([orig_zero_prob-p for p in delta_zero_probs],\\\n",
    "                                           [l[0:2] for l in point_altered])), reverse=True)\n",
    "\n",
    "        all_ko_results.append(knockout_effects)\n",
    "\n",
    "        progress = np.round(100*n/len(pr['muts']),2)\n",
    "        clear_output()\n",
    "        display(f\"{progress}% done\")\n",
    "    except:\n",
    "        pass"
   ]
  },
  {
   "cell_type": "code",
   "execution_count": 127,
   "metadata": {},
   "outputs": [],
   "source": [
    "threshold = .8\n",
    "\n",
    "worst_cases = []\n",
    "for result in all_ko_results:\n",
    "    for ko in result:\n",
    "        if ko[0]>=threshold:\n",
    "            worst_cases.append(ko)"
   ]
  },
  {
   "cell_type": "code",
   "execution_count": 128,
   "metadata": {},
   "outputs": [
    {
     "data": {
      "text/plain": [
       "[(0.9787469, (70, 'AV ')),\n",
       " (0.94918144, (87, ' S ')),\n",
       " (0.94291943, (72, ' C ')),\n",
       " (0.93590796, (72, ' C ')),\n",
       " (0.9339804, (81, ' I ')),\n",
       " (0.9274178, (36, 'DE ')),\n",
       " (0.9254145, (44, ' Q ')),\n",
       " (0.91290456, (62, 'HP ')),\n",
       " (0.91270787, (18, ' S ')),\n",
       " (0.9093502, (15, 'GE ')),\n",
       " (0.9015537, (62, 'HP ')),\n",
       " (0.90002215, (36, 'ND ')),\n",
       " (0.8999875, (36, 'ND ')),\n",
       " (0.89637494, (19, ' R ')),\n",
       " (0.8881461, (72, 'AT ')),\n",
       " (0.886603, (36, 'ND ')),\n",
       " (0.8857551, (17, 'QH ')),\n",
       " (0.88499564, (36, 'AP ')),\n",
       " (0.8777104, (10, 'VF ')),\n",
       " (0.8725484, (69, 'KE ')),\n",
       " (0.85780025, (81, 'AT ')),\n",
       " (0.84651977, (36, ' T ')),\n",
       " (0.8242115, (60, 'QE ')),\n",
       " (0.8184856, (81, 'VA ')),\n",
       " (0.81682354, (19, ' R ')),\n",
       " (0.80013055, (47, ' V '))]"
      ]
     },
     "execution_count": 128,
     "metadata": {},
     "output_type": "execute_result"
    }
   ],
   "source": [
    "sorted(worst_cases, reverse=True)"
   ]
  },
  {
   "cell_type": "code",
   "execution_count": null,
   "metadata": {},
   "outputs": [],
   "source": []
  }
 ],
 "metadata": {
  "kernelspec": {
   "display_name": "Python 3",
   "language": "python",
   "name": "python3"
  },
  "language_info": {
   "codemirror_mode": {
    "name": "ipython",
    "version": 3
   },
   "file_extension": ".py",
   "mimetype": "text/x-python",
   "name": "python",
   "nbconvert_exporter": "python",
   "pygments_lexer": "ipython3",
   "version": "3.6.8"
  }
 },
 "nbformat": 4,
 "nbformat_minor": 2
}
